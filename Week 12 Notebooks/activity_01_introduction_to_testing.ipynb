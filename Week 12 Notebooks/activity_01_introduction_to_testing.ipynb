{
  "cells": [
    {
      "cell_type": "markdown",
      "metadata": {
        "id": "view-in-github",
        "colab_type": "text"
      },
      "source": [
        "<a href=\"https://colab.research.google.com/github/b-abusalih/ICT105/blob/main/Week%2012%20Notebooks/activity_01_introduction_to_testing.ipynb\" target=\"_parent\"><img src=\"https://colab.research.google.com/assets/colab-badge.svg\" alt=\"Open In Colab\"/></a>"
      ]
    },
    {
      "cell_type": "markdown",
      "metadata": {
        "id": "7cEVTNg3PF_Y"
      },
      "source": [
        "## Learning Objectives\n",
        "By the end of this activity, you will be able to:\n",
        "- Understand and apply basic principles of unit testing in Python using `doctest`.\n",
        "- Develop simple tests embedded within function docstrings.\n",
        "- **Understand how AI tools can specifically assist in creating, improving, and understanding `doctests` and other tests.**\n",
        "- **Apply an ethical and effective workflow for AI-assisted testing.**\n",
        "- See how tests also serve as clear documentation and examples.\n",
        "\n",
        "## Introduction\n",
        "Unit testing is crucial for ensuring your code works as expected. `doctest` offers a straightforward way to embed tests directly in your function's documentation (docstrings). This means your examples become live, verifiable tests. In the age of AI, these tools can further supercharge your ability to write effective `doctests` and understand broader testing principles, helping you catch errors early, simplify debugging, and maintain clean, reliable code.\n",
        "\n",
        "## Using AI Tools Ethically & Effectively for Testing\n",
        "AI won’t make testing obsolete, but it can be a powerful assistant. Your understanding and critical evaluation remain essential.\n",
        "\n",
        "> **How AI Can Help You With `doctest` (and Beyond):**\n",
        ">\n",
        "> * **Generate `doctest` Examples Automatically:** You can ask AI tools to help generate `doctest` examples for your functions.\n",
        ">     * **Example prompt:** \"Write some `doctest` examples for this Python function, including common cases and an edge case: `[your function code]`\"\n",
        ">     * Good AI tools can help identify potential edge cases you might not have thought of for your docstring examples.\n",
        "> * **Explain and Improve Existing `doctests`:** If you have `doctests` that are failing or you're not sure how to write a good example for a complex scenario, AI can help.\n",
        ">     * **Example prompt:** \"Can you explain why this `doctest` might be failing for my function?\" or \"Can you suggest a better way to write a `doctest` for this function to cover scenario X?\"\n",
        ">     * AI can review your `doctest` examples and suggest clearer ways to write them or more descriptive accompanying text in your docstring.\n",
        "> * **Find Missing `doctest` Scenarios:** AI can help you think about what situations your current `doctests` might not cover.\n",
        ">     * **Example prompt:** \"Looking at this function and its current `doctests`, what other scenarios or edge cases should I consider adding `doctest` examples for?\"\n",
        "> * **Help Generate Example Data/Scenarios:** While `doctest` doesn't typically use complex mocks in the same way `unittest` or `pytest` do, AI can help you think through realistic input data or scenarios to use in your `doctest` examples.\n",
        ">\n",
        "> **Tips & Tricks for an AI-Assisted `doctest` Workflow:**\n",
        ">\n",
        "> * **Prompt Iteratively:** Start with a simple request (e.g., \"generate basic `doctest` examples\") and then refine. Ask for more examples, specific edge cases, or explanations.\n",
        "> * **Use AI to Review Coverage (Conceptually):** After writing your `doctests`, ask an AI: \"What types of inputs or logic paths in my function do these `doctest` examples not seem to cover?\"\n",
        "> * **Focus on behaviour:** Encourage AI to help you write `doctests` that validate what the code *should do* (the expected output for a given input).\n",
        "> * **Human Oversight is Key:**\n",
        ">     * **Review AI Suggestions:** Always critically review any `doctest` examples or explanations provided by AI. Ensure they make sense, correctly represent the function's intended behaviour, and truly test what you want to test.\n",
        ">     * **Understand, Don't Just Copy:** The goal is for *you* to learn and understand. If an AI provides a `doctest`, make sure you understand why it's written that way and why it's relevant.\n",
        ">\n",
        "> **Why Write Tests (like `doctests`) in the AI Era?**\n",
        ">\n",
        "> Can't we just use AI to fix bugs on demand? Here’s why that’s risky and why tests remain vital:\n",
        ">\n",
        "> | Without Tests (or `doctests`)                     | With Tests (like `doctests`)                                  |\n",
        "> | :------------------------------------------------ | :------------------------------------------------------------ |\n",
        "> | You (or users) discover bugs late.                | You catch many bugs before they cause bigger problems.        |\n",
        "> | Changing code (refactoring) is risky.             | You can refactor confidently; `doctests` verify changes.    |\n",
        "> | AI fixes one bug but might introduce another.     | AI-assisted code changes can be validated by running tests. |\n",
        "> | No safety net if changes break something.         | Fast feedback loop from running tests.                        |\n",
        "> | Code's intended use can be unclear.               | `doctests` serve as clear, executable documentation.       |\n",
        ">\n",
        "> `doctests` (and other tests) are your documentation, your validation, and your safety net. AI can make writing and understanding them easier and faster.\n",
        ">\n",
        "> **Bottom Line:**\n",
        "> AI supercharges your ability to test, but it doesn’t replace the need for well-thought-out, maintainable test code that *you* understand. Your critical thinking in designing, reviewing, and understanding tests is irreplaceable.\n",
        "\n",
        "## Key Concepts\n",
        "- **Unit Testing:** Testing individual components of the software independently for correct operation.\n",
        "- **`doctest` Module:** A Python module that searches for pieces of text that look like interactive Python sessions in docstrings, and then executes those sessions to verify that they work exactly as shown.\n",
        "- **Test Case (in `doctest`):** An example written directly in a docstring, showing an input to a function and its expected output.\n",
        "- **Assertions (in `doctest`):** Implicit. A `doctest` passes if the output produced by running the example code exactly matches the output written in the docstring.\n",
        "\n",
        "## Application Activities\n",
        "\n",
        "### Activity 1: Writing Your First Test with `doctest`\n",
        "**Scenario:** You have a Python function `add(a, b)` that returns the sum of two numbers. Write `doctest` examples within its docstring to verify its correctness.\n",
        "\n",
        "1.  Define the function `add(a, b)`.\n",
        "2.  Inside its docstring, write examples for:\n",
        "    * `add(2, 3)` should result in `5`\n",
        "    * `add(-1, 1)` should result in `0`\n",
        "3.  Import the `doctest` module and run the tests.\n",
        "\n",
        "*Your response:*"
      ]
    },
    {
      "cell_type": "code",
      "source": [],
      "metadata": {
        "id": "Kfhp5oYuHjCm"
      },
      "execution_count": null,
      "outputs": []
    },
    {
      "cell_type": "code",
      "metadata": {
        "id": "lRaYNJDqPF_e",
        "colab": {
          "base_uri": "https://localhost:8080/"
        },
        "outputId": "5312e206-59d2-453f-ae3d-d65c8e15c5e6"
      },
      "source": [
        "import doctest\n",
        "\n",
        "def add(a, b):\n",
        "    \"\"\"\n",
        "    Adds two numbers and returns the result.\n",
        "\n",
        "    Examples:\n",
        "    >>> add(2, 3)\n",
        "    5\n",
        "    >>> add(-1, 1)\n",
        "    0\n",
        "    >>> add(10, -5)\n",
        "    5\n",
        "    \"\"\"\n",
        "    return a + b\n",
        "\n",
        "if __name__ == '__main__':\n",
        "    doctest.testmod(verbose=True)"
      ],
      "execution_count": 1,
      "outputs": [
        {
          "output_type": "stream",
          "name": "stdout",
          "text": [
            "Trying:\n",
            "    add(2, 3)\n",
            "Expecting:\n",
            "    5\n",
            "ok\n",
            "Trying:\n",
            "    add(-1, 1)\n",
            "Expecting:\n",
            "    0\n",
            "ok\n",
            "Trying:\n",
            "    add(10, -5)\n",
            "Expecting:\n",
            "    5\n",
            "ok\n",
            "1 items had no tests:\n",
            "    __main__\n",
            "1 items passed all tests:\n",
            "   3 tests in __main__.add\n",
            "3 tests in 2 items.\n",
            "3 passed and 0 failed.\n",
            "Test passed.\n"
          ]
        }
      ]
    },
    {
      "cell_type": "code",
      "source": [
        "# if __name__ == '__main__':: This is a standard Python construct.\n",
        "# It ensures that the code inside this block only runs when the script is executed directly (not when it's imported as a module into another file).\n",
        "\n",
        "# doctest.testmod(): This is the command that tells the doctest module to find and run all the tests within the current file.\n",
        "\n",
        "# verbose=True: This is an optional argument that makes the output more detailed.\n",
        "# It will print a report for each function and show which tests passed,\n",
        "# giving you a clear summary of your test results. Without verbose=True, it would only report failures."
      ],
      "metadata": {
        "id": "nGO6RAHKH0bt"
      },
      "execution_count": 9,
      "outputs": []
    },
    {
      "cell_type": "code",
      "source": [],
      "metadata": {
        "id": "uMXpONkIHjoE"
      },
      "execution_count": 6,
      "outputs": []
    },
    {
      "cell_type": "markdown",
      "metadata": {
        "id": "5tVhpDIyPF_h"
      },
      "source": [
        "::: {.callout-tip}\n",
        "💡 **AI Tip**: Stuck on what `doctest` examples to write? Provide your `add` function to an AI and ask: \"Suggest three useful `doctest` examples for this Python function, including one that tests negative numbers.\" Critically review its suggestions.\n",
        ":::\n",
        "\n",
        "### Activity 2: Analyse, Test, and Improve with `doctest`\n",
        "**Scenario:** You are given a function `multiply(a, b)` that *should* multiply two numbers but contains a bug. Write `doctests` that reveal the bug, then fix the function so the tests pass.\n",
        "\n",
        "1.  Define the buggy `multiply` function.\n",
        "2.  Write `doctests` that would pass if the function were correct.\n",
        "3.  Run the `doctests` to see the failure.\n",
        "4.  Identify the bug based on the failed test and correct the function.\n",
        "5.  Re-run the `doctests` to confirm they now pass.\n",
        "\n",
        "*Your response:*"
      ]
    },
    {
      "cell_type": "code",
      "metadata": {
        "id": "MTgCCi2YPF_h",
        "colab": {
          "base_uri": "https://localhost:8080/"
        },
        "outputId": "186ff46f-53eb-4321-f90f-4a19c30909e8"
      },
      "source": [
        "import doctest\n",
        "\n",
        "# Buggy function\n",
        "def multiply_buggy(a, b):\n",
        "    \"\"\"\n",
        "    This function is supposed to multiply two numbers.\n",
        "    Examples:\n",
        "    >>> multiply_buggy(3, 5)\n",
        "    15\n",
        "    >>> multiply_buggy(-2, 4)\n",
        "    -8\n",
        "    \"\"\"\n",
        "    return a + b  # This is the incorrect operation\n",
        "\n",
        "# Corrected function\n",
        "def multiply(a, b):\n",
        "    \"\"\"\n",
        "    Multiplies two numbers and returns the result.\n",
        "    Examples:\n",
        "    >>> multiply(3, 5)\n",
        "    15\n",
        "    >>> multiply(2, 0)\n",
        "    0\n",
        "    >>> multiply(-2, 4)\n",
        "    -8\n",
        "    >>> multiply(0.5, 4)\n",
        "    2.0\n",
        "    \"\"\"\n",
        "    return a * b\n",
        "\n",
        "if __name__ == '__main__':\n",
        "    print(\"Testing buggy function (expect failures):\")\n",
        "    # To test only specific doctests, you might need more advanced usage or run them in separate contexts.\n",
        "    # For this activity, focus on correcting 'multiply' and testing the whole module.\n",
        "    # If multiply_buggy were the only one, its doctests would show errors.\n",
        "    # We'll assume we're focusing on getting 'multiply' right.\n",
        "    doctest.testmod(verbose=True)"
      ],
      "execution_count": 1,
      "outputs": [
        {
          "output_type": "stream",
          "name": "stdout",
          "text": [
            "Testing buggy function (expect failures):\n",
            "Trying:\n",
            "    multiply(3, 5)\n",
            "Expecting:\n",
            "    15\n",
            "ok\n",
            "Trying:\n",
            "    multiply(2, 0)\n",
            "Expecting:\n",
            "    0\n",
            "ok\n",
            "Trying:\n",
            "    multiply(-2, 4)\n",
            "Expecting:\n",
            "    -8\n",
            "ok\n",
            "Trying:\n",
            "    multiply(0.5, 4)\n",
            "Expecting:\n",
            "    2.0\n",
            "ok\n",
            "Trying:\n",
            "    multiply_buggy(3, 5)\n",
            "Expecting:\n",
            "    15\n",
            "**********************************************************************\n",
            "File \"__main__\", line 8, in __main__.multiply_buggy\n",
            "Failed example:\n",
            "    multiply_buggy(3, 5)\n",
            "Expected:\n",
            "    15\n",
            "Got:\n",
            "    8\n",
            "Trying:\n",
            "    multiply_buggy(-2, 4)\n",
            "Expecting:\n",
            "    -8\n",
            "**********************************************************************\n",
            "File \"__main__\", line 10, in __main__.multiply_buggy\n",
            "Failed example:\n",
            "    multiply_buggy(-2, 4)\n",
            "Expected:\n",
            "    -8\n",
            "Got:\n",
            "    2\n",
            "1 items had no tests:\n",
            "    __main__\n",
            "1 items passed all tests:\n",
            "   4 tests in __main__.multiply\n",
            "**********************************************************************\n",
            "1 items had failures:\n",
            "   2 of   2 in __main__.multiply_buggy\n",
            "6 tests in 3 items.\n",
            "4 passed and 2 failed.\n",
            "***Test Failed*** 2 failures.\n"
          ]
        }
      ]
    },
    {
      "cell_type": "markdown",
      "source": [],
      "metadata": {
        "id": "Xz_WCYVCNUec"
      }
    },
    {
      "cell_type": "markdown",
      "metadata": {
        "id": "IGbv-byfPF_i"
      },
      "source": [
        "::: {.callout-tip}\n",
        "💡 **AI Tip**: If a `doctest` for `multiply_buggy` fails, copy the function and the failing `doctest` example into an AI tool. Ask: \"This `doctest` failed for my function. Can you explain what the function is doing versus what the doctest expects, and suggest what kind of logical error might cause this?\"\n",
        ":::\n",
        "\n",
        "## Extension Challenge\n",
        "Write a function `subtract(a, b)` that subtracts the second number from the first. Include comprehensive `doctests` in its docstring to cover various cases.\n",
        "* **AI Brainstorming:** Before you write them, ask an AI: \"What are some important edge cases and common scenarios I should consider when writing `doctest` examples for a Python subtraction function?\" Use these ideas to create a robust set of `doctests`.\n",
        "\n",
        "*Example of how to start the function:*"
      ]
    },
    {
      "cell_type": "code",
      "metadata": {
        "id": "3O2ndM-5PF_j"
      },
      "source": [
        "import doctest\n",
        "\n",
        "def subtract(a, b):\n",
        "    \"\"\"\n",
        "    Subtracts b from a.\n",
        "    (Add your doctests here based on AI brainstorming and your own ideas)\n",
        "    Examples:\n",
        "    >>> subtract(10, 3)\n",
        "    7\n",
        "    \"\"\"\n",
        "    return a - b\n",
        "\n",
        "if __name__ == '__main__':\n",
        "    doctest.testmod(verbose=True)"
      ],
      "execution_count": null,
      "outputs": []
    },
    {
      "cell_type": "code",
      "source": [],
      "metadata": {
        "id": "83EWHYhZHE9H"
      },
      "execution_count": 5,
      "outputs": []
    },
    {
      "cell_type": "markdown",
      "metadata": {
        "id": "EO7VGIS-PF_j"
      },
      "source": [
        "## Reflection\n",
        "Reflect on how you have used this knowledge:\n",
        "- How might `doctest` help you write clearer function documentation that is also verifiable?\n",
        "- How can the AI-assisted testing strategies discussed improve the quality and coverage of your `doctests`?\n",
        "- What are the benefits of writing tests *before* or *as* you write your code, even with AI tools available to help generate them later?\n",
        "- How did you ensure that you understood any AI suggestions for `doctests` rather than just accepting them?\n",
        "\n",
        "Remember, the goal is to integrate testing into your regular programming practices. `doctest` provides an accessible way to do this, and AI can help you be more effective and thorough, as long as you remain the critical thinker in charge.\n",
        "\n",
        "\n",
        "\n",
        "## Beyond Doctest: A Glimpse into Advanced Testing Concepts\n",
        "\n",
        "For students interested in exploring testing further, here are some concepts that become important as software projects grow in complexity. These are typically associated with more comprehensive testing frameworks like `unittest` or `pytest`, but understanding the principles is broadly useful.\n",
        "\n",
        "### Advanced Discussion: Understanding Test Coverage\n",
        "\n",
        "**What is Test Coverage?**\n",
        "\n",
        "Test coverage is a metric used in software testing that measures the extent to which your codebase is executed when your test suite runs. It essentially tells you which lines of your code, branches, or functions have been \"touched\" by your tests. The result is usually expressed as a percentage.\n",
        "\n",
        "**Why is Test Coverage Important?**\n",
        "\n",
        "* **Identifying Untested Code:** The primary benefit is that it highlights parts of your application that are *not* currently being tested. These untested areas could harbor hidden bugs.\n",
        "* **Confidence in Refactoring:** If you have high test coverage, you can refactor (restructure or improve) your code with greater confidence. If your changes inadvertently break existing functionality, well-written tests covering that code should fail, alerting you to the issue.\n",
        "* **Guiding Test Creation:** Coverage reports can guide you in writing new tests to cover previously untested areas, making your test suite more comprehensive.\n",
        "* **Maintaining Quality Over Time:** As new features are added or code is modified, tracking coverage can help ensure that testing efforts keep pace.\n",
        "\n",
        "**Types of Coverage (High-Level):**\n",
        "\n",
        "There are several ways to measure coverage, including:\n",
        "\n",
        "* **Statement Coverage:** Did each statement in the program execute?\n",
        "* **Branch Coverage:** For every `if/else` or other control structure, did every possible branch (e.g., both the `if` and the `else` path) get executed?\n",
        "* **Function/Method Coverage:** Did each function or method in the program get called?\n",
        "\n",
        "Branch coverage is generally considered more thorough than statement coverage because a statement might be executed but only under one condition of a branch.\n",
        "\n",
        "**How is Coverage Measured?**\n",
        "\n",
        "Specialised tools are used to measure test coverage. For Python, a very popular tool is `coverage.py`, which can be used with frameworks like `pytest` or `unittest`. These tools typically:\n",
        "1.  Run your test suite.\n",
        "2.  Monitor which parts of your application code are executed during the tests.\n",
        "3.  Generate a report detailing the coverage, often highlighting specific lines or sections that weren't covered.\n",
        "\n",
        "While `doctest` itself is excellent for example-based testing and documentation, it doesn't natively offer the same kind of sophisticated coverage reporting as these dedicated tools and frameworks. Achieving detailed coverage metrics usually involves integrating with these more comprehensive systems.\n",
        "\n",
        "**Important Considerations & Caveats:**\n",
        "\n",
        "* **100% Coverage is Not a Silver Bullet:** Achieving 100% test coverage does not guarantee your code is bug-free. You could have 100% coverage with tests that don't actually assert the correct behaviour, or you might be missing tests for certain logical conditions even if all lines are hit.\n",
        "* **Quality Over Quantity:** The quality of your tests is far more important than just the coverage percentage. A few well-written tests that check critical functionality and edge cases are better than many trivial tests that achieve high coverage but don't meaningfully validate the code.\n",
        "* **Context Matters:** The ideal level of coverage can depend on the criticality of the software module. Mission-critical systems might aim for very high coverage, while other less critical parts might have different targets.\n",
        "\n",
        "**Test Coverage in the AI Era:**\n",
        "\n",
        "AI tools can also play a role in relation to test coverage:\n",
        "* **Identifying Gaps:** AI might be able to analyse code and existing tests to suggest areas with low coverage or specific paths that are untested.\n",
        "* **Suggesting Tests for Coverage:** You could potentially ask an AI to help generate tests aimed at covering specific lines or branches identified by a coverage tool.\n",
        "* **The Same Caveats Apply:** Even if AI helps generate tests to improve coverage, human oversight is crucial to ensure these tests are meaningful, assert the correct behaviour, and don't just blindly \"hit lines\" without purpose. The goal is robust, well-understood code, not just a high percentage.\n",
        "\n",
        "**In Summary:**\n",
        "\n",
        "Understanding test coverage is valuable as you progress in your software development journey. It's a tool that, when used wisely, can significantly improve the quality and reliability of your software by helping you understand how thoroughly your tests exercise your code. While `doctest` serves a fantastic purpose for clear, example-based testing within documentation, coverage analysis typically involves dedicated tools often used with more extensive testing frameworks."
      ]
    },
    {
      "cell_type": "markdown",
      "metadata": {
        "id": "ta6WIUG3PF_k"
      },
      "source": [
        "---"
      ]
    }
  ],
  "metadata": {
    "kernelspec": {
      "display_name": "Python 3",
      "language": "python",
      "name": "python3"
    },
    "colab": {
      "provenance": [],
      "include_colab_link": true
    }
  },
  "nbformat": 4,
  "nbformat_minor": 0
}